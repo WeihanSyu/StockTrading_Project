{
 "cells": [
  {
   "cell_type": "markdown",
   "id": "fdc06e65",
   "metadata": {},
   "source": [
    "### Simple Moving Average"
   ]
  },
  {
   "cell_type": "code",
   "execution_count": 1,
   "id": "1c3f0c41",
   "metadata": {},
   "outputs": [],
   "source": [
    "def sma(prices, n, length, *args):\n",
    "    ma = []\n",
    "    for i in range(0, length-n+1):\n",
    "        ma.append(sum(prices[i:(n+i)])/n)\n",
    "    return ma\n",
    "\n",
    "# n is the period\n",
    "# Remember first point in graph is start date + n - 1 WHICH means you MISS the first n-1 POINTS"
   ]
  },
  {
   "cell_type": "markdown",
   "id": "486a0408",
   "metadata": {},
   "source": [
    "### Weighted Moving Average"
   ]
  },
  {
   "cell_type": "code",
   "execution_count": 6,
   "id": "7a42c30a",
   "metadata": {},
   "outputs": [],
   "source": [
    "def wma(prices, n, length, *args):\n",
    "    ma = []\n",
    "    for i in range(0, length-n+1):\n",
    "        numerator = []\n",
    "        k = 0\n",
    "        for j in range(i, n+i):\n",
    "            numerator.append(prices[j]*(k+1))\n",
    "            k += 1\n",
    "        ma.append(sum(numerator)/((n*(n+1))/2))\n",
    "    return ma\n",
    "\n",
    "# need i, j, k \n",
    "# i to iterate through the total date range\n",
    "# j to create groups of n size moving through i \n",
    "# k to be fixed from 0 to n-1 which is our weighted average coefficient"
   ]
  },
  {
   "cell_type": "markdown",
   "id": "a8954ca4",
   "metadata": {},
   "source": [
    "### Exponential Moving Average"
   ]
  },
  {
   "cell_type": "code",
   "execution_count": null,
   "id": "90e7587d",
   "metadata": {},
   "outputs": [],
   "source": [
    "def ema(prices, n, length, s):\n",
    "    sma = sum(prices[0:n])/n\n",
    "    ma = [(prices[n]*(s/(1+n))) + (sma*(1-(s/(1+n))))]\n",
    "    for i in range(1, length-n): \n",
    "        ma.append( ( prices[i+n]*(s/(1+n)) ) + ( ma[i-1]*(1-(s/(1+n))) ) )\n",
    "    return ma\n",
    "    \n",
    "# EMA first point starts at date + n WHICH MEANS YOU MISS THE FIRST n POINTS"
   ]
  },
  {
   "cell_type": "markdown",
   "id": "ce716844",
   "metadata": {},
   "source": [
    "### Double Exponential Moving Average"
   ]
  },
  {
   "cell_type": "code",
   "execution_count": null,
   "id": "51d732a9",
   "metadata": {},
   "outputs": [],
   "source": [
    "def dema(prices, n, length, s):\n",
    "    ma = []\n",
    "    ema1 = ema(prices, n, length, s)\n",
    "    l = len(ema1)\n",
    "    ema_sq = []\n",
    "    for i in range(0, l):\n",
    "        ema_sq.append( (prices[i+n])*(s/(1+n)) + ( ema1[i]*(1-(s/(1+n))) ) )\n",
    "    \n",
    "    for x,y in zip(ema1, ema_sq):\n",
    "        ma.append(2*x - y)\n",
    "   \n",
    "    return ma"
   ]
  },
  {
   "cell_type": "markdown",
   "id": "a0a5b97a",
   "metadata": {},
   "source": [
    "### Triple Exponential Moving Average"
   ]
  },
  {
   "cell_type": "code",
   "execution_count": 1,
   "id": "ab4d913d",
   "metadata": {},
   "outputs": [],
   "source": [
    "def tema(prices, n, length, s):\n",
    "    ma = []\n",
    "    ema1 = ema(prices, n, length, s)\n",
    "    l = len(ema1)\n",
    "    ema_sq = []\n",
    "    ema_cu = []\n",
    "    for i in range(0, l):\n",
    "        ema_sq.append( (prices[i+n])*(s/(1+n)) + ( ema1[i]*(1-(s/(1+n))) ) )\n",
    "        ema_cu.append( (prices[i+n])*(s/(1+n)) + ( ema_sq[i]*(1-(s/(1+n))) ) )\n",
    "    \n",
    "    for x,y,z in zip(ema1, ema_sq, ema_cu):\n",
    "        ma.append( (3*x) - (3*y) + z )\n",
    "    \n",
    "    return ma"
   ]
  },
  {
   "cell_type": "markdown",
   "id": "da8f739f",
   "metadata": {},
   "source": [
    "### Triangular Moving Average (Centered MA)"
   ]
  },
  {
   "cell_type": "code",
   "execution_count": null,
   "id": "11e71c74",
   "metadata": {},
   "outputs": [],
   "source": [
    "def tma(prices, n, length, *args):\n",
    "    ma = []\n",
    "    simple = sma(prices, n, length)\n",
    "    l = len(simple)\n",
    "    for i in range(0, l-n+1):\n",
    "        ma.append(sum(simple[i:(n+i)])/n)\n",
    "    return ma\n",
    "        \n",
    "# First point in time is start date + 2n - 2"
   ]
  },
  {
   "cell_type": "markdown",
   "id": "addcd684",
   "metadata": {},
   "source": [
    "### Chande Momentum Oscillator"
   ]
  },
  {
   "cell_type": "code",
   "execution_count": null,
   "id": "c42e2514",
   "metadata": {},
   "outputs": [],
   "source": [
    "def cmo(prices, n, length):\n",
    "    SoU = [0]*length\n",
    "    SoD = [0]*length\n",
    "    chande = []\n",
    "    for i in range(0, length-n+1):\n",
    "        for j in range(i, i+n-1):\n",
    "            if prices[j] < prices[j+1]:\n",
    "                SoU[i] += (prices[j+1] - prices[j])\n",
    "            elif prices[j] > prices[j+1]:\n",
    "                SoD[i] += abs(prices[j+1] - prices[j])\n",
    "        chande.append( ((SoU[i]-SoD[i])/(SoU[i]+SoD[i]))*100 )\n",
    "    return chande"
   ]
  },
  {
   "cell_type": "markdown",
   "id": "b246fc1d",
   "metadata": {},
   "source": [
    "### Variable Moving Average"
   ]
  },
  {
   "cell_type": "code",
   "execution_count": 1,
   "id": "088d4003",
   "metadata": {},
   "outputs": [],
   "source": [
    "# I think we set up this function with n = 10: for i in range (9,...) FIX IT\n",
    "def vma(prices, n, length, s):\n",
    "    ma = []\n",
    "    numerator = [0]*(length-n+1-9)\n",
    "    denominator = [0]*(length-n+1-9)\n",
    "    chande = cmo(prices, n, length)\n",
    "    b = [abs(x/100) for x in chande]\n",
    "    a = s/(n+1)\n",
    "    for i in range(9, length-n+1):\n",
    "        for j in range(i, i+n):\n",
    "            numerator[i-9] += ( prices[j]*( (a*b[j-9])**(abs(j-i-9)) ) )  # abs(j-i-9) must always go from 9 to 0\n",
    "            denominator[i-9] += ( (a*b[j-9])**(abs(j-i-9)) )  # Math looks good\n",
    "        ma.append( sum(numerator[(i-9):(i+1)]) / sum(denominator[(i-9):(i+1)]) )\n",
    "    return ma\n",
    "            \n",
    "# chande[0] = day 10 for prices with n = 10\n",
    "# First point in time is start date + 2n - 2"
   ]
  },
  {
   "cell_type": "markdown",
   "id": "c1896e5c",
   "metadata": {},
   "source": [
    "### Least Square Moving Average"
   ]
  },
  {
   "cell_type": "code",
   "execution_count": null,
   "id": "8e1b2634",
   "metadata": {},
   "outputs": [],
   "source": [
    "def lsma(prices, n, length, *args):\n",
    "    ma = []\n",
    "    b = []\n",
    "    a = []\n",
    "    t = [x for x in range(1, length+1)]  # Since all times are divided evenly (intraday, daily, weekly), let's call each time 1\n",
    "    sumTX = [0]*(length-n+1)\n",
    "    sumT = [0]*(length-n+1)\n",
    "    sumX = [0]*(length-n+1)\n",
    "    \n",
    "    for i in range(0, length-n+1):\n",
    "        for j in range(i, i+n):\n",
    "            sumTX[i] += t[j]*prices[j]\n",
    "            sumT[i] += t[j]\n",
    "            sumX[i] += prices[j]\n",
    "        b.append( (n*sumTX[i]-(sumT[i]*sumX[i])) / (n*sumT[i]-(sumT[i]*sumX[i])) )\n",
    "        a.append( (sumX[i]/n) - ( b[i] * (sumT[i]/n) ) )\n",
    "        ma.append(b[i]*t[i]+a[i])\n",
    "    \n",
    "    return ma\n",
    "\n",
    "# Start point is date + n - 1"
   ]
  }
 ],
 "metadata": {
  "kernelspec": {
   "display_name": "Python 3 (ipykernel)",
   "language": "python",
   "name": "python3"
  },
  "language_info": {
   "codemirror_mode": {
    "name": "ipython",
    "version": 3
   },
   "file_extension": ".py",
   "mimetype": "text/x-python",
   "name": "python",
   "nbconvert_exporter": "python",
   "pygments_lexer": "ipython3",
   "version": "3.8.16"
  }
 },
 "nbformat": 4,
 "nbformat_minor": 5
}
