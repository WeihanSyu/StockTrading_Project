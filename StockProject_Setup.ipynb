{
 "cells": [
  {
   "cell_type": "markdown",
   "id": "073a5131",
   "metadata": {},
   "source": [
    "## 1. Set up Environment"
   ]
  },
  {
   "cell_type": "code",
   "execution_count": 15,
   "id": "1c536ce3",
   "metadata": {},
   "outputs": [],
   "source": [
    "import pandas as pd\n",
    "import requests\n",
    "import datetime\n",
    "import pyodbc\n",
    "from sqlalchemy import create_engine"
   ]
  },
  {
   "cell_type": "markdown",
   "id": "8e847883",
   "metadata": {},
   "source": [
    "## 2. Store API Key"
   ]
  },
  {
   "cell_type": "code",
   "execution_count": 16,
   "id": "717fb034",
   "metadata": {},
   "outputs": [],
   "source": [
    "key = open('alphavantage_key.txt').read()"
   ]
  },
  {
   "cell_type": "markdown",
   "id": "95da62f4",
   "metadata": {},
   "source": [
    "## 3. Construct General Form for API Call"
   ]
  },
  {
   "cell_type": "code",
   "execution_count": 17,
   "id": "9c784a82",
   "metadata": {},
   "outputs": [],
   "source": [
    "class api_construct:\n",
    "    def __init__(self, function, symbol, apikey):\n",
    "        self.function = function\n",
    "        self.symbol = symbol\n",
    "        self.apikey = apikey\n",
    "    \n",
    "    date = \"-\".join(str(datetime.date.today()).split('-')[:2])\n",
    "\n",
    "    def intraday(self, interval='1min', adjusted='true', extended_hours='true', month=date, outputsize='compact', datatype='json'):\n",
    "        self.url = 'https://www.alphavantage.co/query?function=' + self.function + '&symbol=' + self.symbol\\\n",
    "        + '&interval=' + interval + '&adjusted=' + adjusted + '&extended_hours=' + extended_hours + '&month=' + month\\\n",
    "        + '&outputsize=' + outputsize + '&apikey=' + self.apikey + '&datatype=' + datatype\n",
    " \n",
    "# INTRADAY_EXTENDED API has recently (~2023-07-20) been merged with INTRADAY. Keep this here just in case\n",
    "#    def intraday_ext(self, interval='1min', slice_='year1month1', adjusted='true'):\n",
    "#        self.url = 'https://www.alphavantage.co/query?function=' + self.function + '&symbol=' + self.symbol\\\n",
    "#        + '&interval=' + interval + '&slice=' + slice_ + '&adjusted=' + adjusted + '&apikey=' + self.apikey\n",
    "\n",
    "    def daily(self, outputsize='compact', datatype='json'):\n",
    "        self.url = 'https://www.alphavantage.co/query?function=' + self.function + '&symbol=' + self.symbol\\\n",
    "        + '&outputsize=' + outputsize + '&apikey=' + self.apikey + '&datatype=' + datatype\n",
    "\n",
    "# DAILY_ADJUSTED API is now a Premium API\n",
    "    def daily_adj(self, outputsize='compact', datatype='json'):\n",
    "        self.url = 'https://www.alphavantage.co/query?function=' + self.function + '&symbol=' + self.symbol\\\n",
    "        + '&outputsize=' + outputsize + '&apikey=' + self.apikey + '&datatype=' + datatype\n",
    "        \n",
    "    def weekly(self, datatype='json'):\n",
    "        self.url = 'https://www.alphavantage.co/query?function=' + self.function + '&symbol=' + self.symbol\\\n",
    "        + '&apikey=' + self.apikey + '&datatype=' + datatype\n",
    "        \n",
    "    def weekly_adj(self, datatype='json'):\n",
    "        self.url = 'https://www.alphavantage.co/query?function=' + self.function + '&symbol=' + self.symbol\\\n",
    "        + '&apikey=' + self.apikey + '&datatype=' + datatype\n",
    "    \n",
    "    def monthly(self, datatype='json'):\n",
    "        self.url = 'https://www.alphavantage.co/query?function=' + self.function + '&symbol=' + self.symbol\\\n",
    "        + '&apikey=' + self.apikey + '&datatype=' + datatype\n",
    "        \n",
    "    def monthly_adj(self, datatype='json'):\n",
    "        self.url = 'https://www.alphavantage.co/query?function=' + self.function + '&symbol=' + self.symbol\\\n",
    "        + '&apikey=' + self.apikey + '&datatype=' + datatype\n",
    "\n",
    "def api_call(function, symbol, **kwargs):\n",
    "    construct = api_construct(function, symbol, key)\n",
    "    \n",
    "    if function == 'TIME_SERIES_INTRADAY':\n",
    "        construct.intraday(**kwargs)\n",
    "        tbl_name = 'intraday'\n",
    "    elif function == 'TIME_SERIES_INTRADAY_EXTENDED':\n",
    "        construct.intraday_ext(**kwargs)\n",
    "        tbl_name = 'intraday_ext'\n",
    "    elif function == 'TIME_SERIES_DAILY':\n",
    "        construct.daily(**kwargs)\n",
    "        tbl_name = 'daily'\n",
    "    elif function == 'TIME_SERIES_DAILY_ADJUSTED':\n",
    "        construct.daily_adj(**kwargs)\n",
    "        tbl_name = 'daily_adj'\n",
    "    elif function == 'TIME_SERIES_WEEKLY':\n",
    "        construct.weekly(**kwargs)\n",
    "        tbl_name = 'weekly'\n",
    "    elif function == 'TIME_SERIES_WEEKLY_ADJUSTED':\n",
    "        construct.weekly_adj(**kwargs)\n",
    "        tbl_name = 'weekly_adj'\n",
    "    elif function == 'TIME_SERIES_MONTHLY':\n",
    "        construct.monthly(**kwargs)\n",
    "        tbl_name = 'monthly'\n",
    "    elif function == 'TIME_SERIES_MONTHLY_ADJUSTED':\n",
    "        construct.monthly_adj(**kwargs)\n",
    "        tbl_name = 'monthly_adj'\n",
    "    else:\n",
    "        print('Invalid function input')\n",
    "        \n",
    "    url = construct.url\n",
    "    return url, tbl_name"
   ]
  },
  {
   "cell_type": "markdown",
   "id": "fe7d4654",
   "metadata": {},
   "source": [
    "## 4. Make the API Call "
   ]
  },
  {
   "cell_type": "code",
   "execution_count": 18,
   "id": "38e0c58c",
   "metadata": {},
   "outputs": [
    {
     "name": "stdout",
     "output_type": "stream",
     "text": [
      "Status code: 200\n"
     ]
    }
   ],
   "source": [
    "x = api_call('TIME_SERIES_DAILY', 'NVDA')\n",
    "url = x[0]\n",
    "tbl_name = x[1]\n",
    "r = requests.get(url)\n",
    "print(f\"Status code: {r.status_code}\")  # Status Code 200 means the API call was successful\n",
    "data = r.json()"
   ]
  },
  {
   "cell_type": "markdown",
   "id": "78587b4c",
   "metadata": {},
   "source": [
    "## 5.1 Clean and Transform Raw Data"
   ]
  },
  {
   "cell_type": "code",
   "execution_count": 19,
   "id": "3f4777e4",
   "metadata": {},
   "outputs": [],
   "source": [
    "tseries_keyname = list(data.keys())[1]\n",
    "\n",
    "dicts, meta = data[tseries_keyname], data['Meta Data']\n",
    "\n",
    "try:\n",
    "    del interval  \n",
    "except Exception:\n",
    "    pass\n",
    "\n",
    "try:\n",
    "    symbol = meta['2. Symbol']\n",
    "    interval = meta['4. Interval']\n",
    "except KeyError:\n",
    "    symbol = meta['2. Symbol']\n",
    "\n",
    "values = []"
   ]
  },
  {
   "cell_type": "code",
   "execution_count": 20,
   "id": "3be2b6fc",
   "metadata": {},
   "outputs": [],
   "source": [
    "tbl_keys = list( dicts[ list(dicts.keys())[0] ].keys() )\n",
    "\n",
    "try:\n",
    "    i = 0\n",
    "    for date in dicts:\n",
    "        values.append((f\"{symbol}_{date}\",symbol,date, interval))\n",
    "        for key in tbl_keys:\n",
    "            values[i] = values[i] + tuple( [float(dicts[date][key])] )  \n",
    "        i += 1\n",
    "except NameError:\n",
    "    i = 0\n",
    "    for date in dicts:\n",
    "        values.append((f\"{symbol}_{date}\",symbol,date))\n",
    "        for key in tbl_keys:\n",
    "            values[i] = values[i] + tuple( [float(dicts[date][key])] )  \n",
    "        i += 1"
   ]
  },
  {
   "cell_type": "code",
   "execution_count": 21,
   "id": "8205f77b",
   "metadata": {},
   "outputs": [
    {
     "name": "stdout",
     "output_type": "stream",
     "text": [
      "2025-04-07\n"
     ]
    }
   ],
   "source": [
    "print(values[0][2])"
   ]
  },
  {
   "cell_type": "markdown",
   "id": "5356efb2",
   "metadata": {},
   "source": [
    "## 5.2 Make the ODBC Connection"
   ]
  },
  {
   "cell_type": "code",
   "execution_count": 22,
   "id": "606cc556",
   "metadata": {},
   "outputs": [],
   "source": [
    "db = []\n",
    "with open('ODBC_Conn.txt') as file:\n",
    "    for line in file:\n",
    "        db.append(line.rstrip())\n",
    "\n",
    "conn = pyodbc.connect(f'DRIVER={db[2]};\\\n",
    "                        SERVER={db[0]};\\\n",
    "                        DATABASE={db[1]};\\\n",
    "                        UID={db[3]};PWD={db[4]}')\n",
    "cursor = conn.cursor()                "
   ]
  },
  {
   "cell_type": "markdown",
   "id": "8329eb64",
   "metadata": {},
   "source": [
    "## 5.3 Insert the data into SQL Table"
   ]
  },
  {
   "cell_type": "code",
   "execution_count": 30,
   "id": "b4ad7927",
   "metadata": {},
   "outputs": [],
   "source": [
    "cursor.execute(\"DROP TABLE IF EXISTS StockData.dbo.##tempstock_tbl;\")\n",
    "try:\n",
    "    interval\n",
    "    cursor.execute(\"CREATE TABLE StockData.dbo.##tempstock_tbl\\\n",
    "        (stock_id VARCHAR(255), symbol VARCHAR(15), [date] DATETIME, interval VARCHAR(10));\")\n",
    "except NameError:\n",
    "    cursor.execute(\"CREATE TABLE StockData.dbo.##tempstock_tbl\\\n",
    "        (stock_id VARCHAR(255), symbol VARCHAR(15), [date] DATE);\")\n",
    "\n",
    "\n",
    "for i in tbl_keys:\n",
    "    colName = \"[\" + i + \"]\"    \n",
    "    cursor.execute(\"EXEC StockData.dbo.addcol_tempstock @colName = ?\",(colName))\n",
    "    \n",
    "headerStr = ''\n",
    "for i in tbl_keys:\n",
    "    colName = \"[\" + i + \"]\"\n",
    "    headerStr = headerStr + colName + ','\n",
    "headerStr = headerStr[:-1]\n",
    "\n",
    "cursor.execute(\"SELECT COUNT(COLUMN_NAME) FROM StockData.INFORMATION_SCHEMA.COLUMNS WHERE TABLE_NAME = '\" + tbl_name + \"';\")\n",
    "colSize = str(cursor.fetchone())\n",
    "colSize = colSize.replace(\"(\",\"\")\n",
    "colSize = colSize.replace(\")\",\"\")\n",
    "colSize = colSize.replace(\",\",\"\")\n",
    "colSize = int(colSize)\n",
    "xValues = \"\"\n",
    "for i in range(0, colSize):\n",
    "    xValues = xValues + \"?,\"\n",
    "xValues = xValues[:-1]    \n",
    "\n",
    "try:\n",
    "    interval\n",
    "    cursor.fast_executemany = True\n",
    "    cursor.executemany(\"INSERT INTO StockData.dbo.##tempstock_tbl (stock_id, symbol, [date], interval, \" + headerStr + \")\\\n",
    "                  VALUES (\" + xValues + \")\",\\\n",
    "                  values)\n",
    "except NameError:\n",
    "    cursor.fast_executemany = True\n",
    "    cursor.executemany(\"INSERT INTO StockData.dbo.##tempstock_tbl (stock_id, symbol, [date], \" + headerStr + \")\\\n",
    "                  VALUES (\" + xValues + \")\",\\\n",
    "                  values)\n",
    "    \n",
    "cursor.execute(\"INSERT INTO StockData.dbo.\" + tbl_name + \" SELECT * FROM StockData.dbo.##tempstock_tbl\\\n",
    "                WHERE stock_id NOT IN (SELECT stock_id FROM StockData.dbo.\" + tbl_name + \")\")\n",
    "conn.commit()"
   ]
  },
  {
   "cell_type": "code",
   "execution_count": null,
   "id": "0654a3c7",
   "metadata": {},
   "outputs": [],
   "source": []
  }
 ],
 "metadata": {
  "celltoolbar": "Raw Cell Format",
  "kernelspec": {
   "display_name": "Python 3 (ipykernel)",
   "language": "python",
   "name": "python3"
  },
  "language_info": {
   "codemirror_mode": {
    "name": "ipython",
    "version": 3
   },
   "file_extension": ".py",
   "mimetype": "text/x-python",
   "name": "python",
   "nbconvert_exporter": "python",
   "pygments_lexer": "ipython3",
   "version": "3.8.16"
  }
 },
 "nbformat": 4,
 "nbformat_minor": 5
}
